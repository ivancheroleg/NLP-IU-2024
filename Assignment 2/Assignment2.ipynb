{
 "cells": [
  {
   "cell_type": "markdown",
   "metadata": {
    "id": "DIgM6C9HYUhm"
   },
   "source": [
    "# Context-sensitive Spelling Correction\n",
    "\n",
    "The goal of the assignment is to implement context-sensitive spelling correction. The input of the code will be a set of text lines and the output will be the same lines with spelling mistakes fixed.\n",
    "\n",
    "Submit the solution of the assignment to Moodle as a link to your GitHub repository containing this notebook.\n",
    "\n",
    "Useful links:\n",
    "- [Norvig's solution](https://norvig.com/spell-correct.html)\n",
    "- [Norvig's dataset](https://norvig.com/big.txt)\n",
    "- [Ngrams data](https://www.ngrams.info/download_coca.asp)\n",
    "\n",
    "Grading:\n",
    "- 60 points - Implement spelling correction\n",
    "- 20 points - Justify your decisions\n",
    "- 20 points - Evaluate on a test set\n"
   ]
  },
  {
   "cell_type": "markdown",
   "metadata": {
    "id": "x-vb8yFOGRDF"
   },
   "source": [
    "## Implement context-sensitive spelling correction\n",
    "\n",
    "Your task is to implement context-sensitive spelling corrector using N-gram language model. The idea is to compute conditional probabilities of possible correction options. For example, the phrase \"dking sport\" should be fixed as \"doing sport\" not \"dying sport\", while \"dking species\" -- as \"dying species\".\n",
    "\n",
    "The best way to start is to analyze [Norvig's solution](https://norvig.com/spell-correct.html) and [N-gram Language Models](https://web.stanford.edu/~jurafsky/slp3/3.pdf).\n",
    "\n",
    "You may also want to implement:\n",
    "- spell-checking for a concrete language - Russian, Tatar, etc. - any one you know, such that the solution accounts for language specifics,\n",
    "- some recent (or not very recent) paper on this topic,\n",
    "- solution which takes into account keyboard layout and associated misspellings,\n",
    "- efficiency improvement to make the solution faster,\n",
    "- any other idea of yours to improve the Norvig’s solution.\n",
    "\n",
    "IMPORTANT:  \n",
    "Your project should not be a mere code copy-paste from somewhere. You must provide:\n",
    "- Your implementation\n",
    "- Analysis of why the implemented approach is suggested\n",
    "- Improvements of the original approach that you have chosen to implement"
   ]
  },
  {
   "cell_type": "code",
   "execution_count": 2,
   "metadata": {
    "id": "MoQeEsZvHvvi",
    "ExecuteTime": {
     "end_time": "2024-03-22T19:08:16.603744500Z",
     "start_time": "2024-03-22T19:08:16.596201300Z"
    }
   },
   "outputs": [],
   "source": [
    "import pandas as pd\n",
    "import numpy as np\n",
    "from collections import defaultdict\n",
    "from tqdm import tqdm"
   ]
  },
  {
   "cell_type": "markdown",
   "source": [
    "### Load the bigrams data"
   ],
   "metadata": {
    "collapsed": false
   }
  },
  {
   "cell_type": "code",
   "execution_count": 6,
   "outputs": [],
   "source": [
    "bigrams = pd.read_csv('Assignment2_data/bigrams.txt', sep='\\t', header=None, encoding='latin-1')"
   ],
   "metadata": {
    "collapsed": false,
    "ExecuteTime": {
     "end_time": "2024-03-22T19:09:15.478497900Z",
     "start_time": "2024-03-22T19:09:14.850874100Z"
    }
   }
  },
  {
   "cell_type": "code",
   "execution_count": 7,
   "outputs": [
    {
     "data": {
      "text/plain": "     0  1    2\n0  275  a    a\n1   31  a  aaa\n2   29  a  all\n3   45  a   an\n4  192  a  and",
      "text/html": "<div>\n<style scoped>\n    .dataframe tbody tr th:only-of-type {\n        vertical-align: middle;\n    }\n\n    .dataframe tbody tr th {\n        vertical-align: top;\n    }\n\n    .dataframe thead th {\n        text-align: right;\n    }\n</style>\n<table border=\"1\" class=\"dataframe\">\n  <thead>\n    <tr style=\"text-align: right;\">\n      <th></th>\n      <th>0</th>\n      <th>1</th>\n      <th>2</th>\n    </tr>\n  </thead>\n  <tbody>\n    <tr>\n      <th>0</th>\n      <td>275</td>\n      <td>a</td>\n      <td>a</td>\n    </tr>\n    <tr>\n      <th>1</th>\n      <td>31</td>\n      <td>a</td>\n      <td>aaa</td>\n    </tr>\n    <tr>\n      <th>2</th>\n      <td>29</td>\n      <td>a</td>\n      <td>all</td>\n    </tr>\n    <tr>\n      <th>3</th>\n      <td>45</td>\n      <td>a</td>\n      <td>an</td>\n    </tr>\n    <tr>\n      <th>4</th>\n      <td>192</td>\n      <td>a</td>\n      <td>and</td>\n    </tr>\n  </tbody>\n</table>\n</div>"
     },
     "execution_count": 7,
     "metadata": {},
     "output_type": "execute_result"
    }
   ],
   "source": [
    "bigrams.head()"
   ],
   "metadata": {
    "collapsed": false,
    "ExecuteTime": {
     "end_time": "2024-03-22T19:09:17.691109100Z",
     "start_time": "2024-03-22T19:09:17.648541600Z"
    }
   }
  },
  {
   "cell_type": "markdown",
   "source": [
    "### Create a dictionary of bigrams"
   ],
   "metadata": {
    "collapsed": false
   }
  },
  {
   "cell_type": "code",
   "execution_count": 8,
   "outputs": [],
   "source": [
    "# Convert to dictionary of (word1, word2): count\n",
    "bigram_count = defaultdict(int, bigrams.set_index([1, 2]).to_dict()[0])\n",
    "bigram_count_total = sum(bigram_count.values())"
   ],
   "metadata": {
    "collapsed": false,
    "ExecuteTime": {
     "end_time": "2024-03-22T19:09:22.644317700Z",
     "start_time": "2024-03-22T19:09:20.381691400Z"
    }
   }
  },
  {
   "cell_type": "code",
   "execution_count": 9,
   "outputs": [
    {
     "data": {
      "text/plain": "defaultdict(int,\n            {('a', 'a'): 275,\n             ('a', 'aaa'): 31,\n             ('a', 'all'): 29,\n             ('a', 'an'): 45,\n             ('a', 'and'): 192,\n             ('a', 'another'): 39,\n             ('a', 'at'): 25,\n             ('a', 'b'): 82,\n             ('a', 'b+'): 45,\n             ('a', 'b-17'): 26,\n             ('a', 'b-2'): 31,\n             ('a', 'b-52'): 54,\n             ('a', 'b-movie'): 39,\n             ('a', 'b-plus'): 40,\n             ('a', 'b.a'): 168,\n             ('a', 'b.f.a'): 64,\n             ('a', 'b.s'): 84,\n             ('a', 'ba'): 66,\n             ('a', 'babble'): 41,\n             ('a', 'babbling'): 28,\n             ('a', 'babe'): 159,\n             ('a', 'baboon'): 83,\n             ('a', 'baby'): 9744,\n             ('a', 'baby-faced'): 31,\n             ('a', 'baby-sitter'): 122,\n             ('a', 'babysitter'): 237,\n             ('a', 'babysitting'): 23,\n             ('a', 'baccalaureate'): 95,\n             ('a', 'bach'): 71,\n             ('a', 'bachelor'): 1342,\n             ('a', 'bachelorette'): 27,\n             ('a', 'bachelors'): 53,\n             ('a', 'back'): 1924,\n             ('a', 'back-and-forth'): 38,\n             ('a', 'back-door'): 24,\n             ('a', 'back-to-basics'): 29,\n             ('a', 'back-to-school'): 27,\n             ('a', 'back-up'): 100,\n             ('a', 'backboard'): 53,\n             ('a', 'backbone'): 72,\n             ('a', 'backcountry'): 93,\n             ('a', 'backdoor'): 60,\n             ('a', 'backdrop'): 728,\n             ('a', 'backer'): 47,\n             ('a', 'backfire'): 23,\n             ('a', 'background'): 1262,\n             ('a', 'backhand'): 59,\n             ('a', 'backhanded'): 46,\n             ('a', 'backhoe'): 113,\n             ('a', 'backing'): 43,\n             ('a', 'backlash'): 721,\n             ('a', 'backlit'): 38,\n             ('a', 'backlog'): 183,\n             ('a', 'backpack'): 481,\n             ('a', 'backpacker'): 59,\n             ('a', 'backpacking'): 31,\n             ('a', 'backseat'): 182,\n             ('a', 'backstage'): 70,\n             ('a', 'backstop'): 34,\n             ('a', 'backup'): 921,\n             ('a', 'backward'): 308,\n             ('a', 'backwards'): 42,\n             ('a', 'backwater'): 109,\n             ('a', 'backwoods'): 45,\n             ('a', 'backyard'): 396,\n             ('a', 'bacon'): 49,\n             ('a', 'bacteria'): 79,\n             ('a', 'bacterial'): 196,\n             ('a', 'bacterium'): 162,\n             ('a', 'bad'): 16244,\n             ('a', 'bad-looking'): 29,\n             ('a', 'badass'): 43,\n             ('a', 'badge'): 559,\n             ('a', 'badger'): 54,\n             ('a', 'badly'): 336,\n             ('a', 'badminton'): 33,\n             ('a', 'baffled'): 38,\n             ('a', 'baffling'): 57,\n             ('a', 'bag'): 2973,\n             ('a', 'bagel'): 223,\n             ('a', 'bagful'): 28,\n             ('a', 'baggage'): 46,\n             ('a', 'baggie'): 68,\n             ('a', 'baggy'): 112,\n             ('a', 'baghdad'): 180,\n             ('a', 'bagpipe'): 23,\n             ('a', 'baguette'): 67,\n             ('a', 'bahamian'): 33,\n             ('a', 'bail'): 80,\n             ('a', 'bailiff'): 29,\n             ('a', 'bailout'): 208,\n             ('a', 'bait'): 123,\n             ('a', 'bake'): 56,\n             ('a', 'baked'): 151,\n             ('a', 'baker'): 233,\n             ('a', 'bakery'): 323,\n             ('a', 'baking'): 839,\n             ('a', 'balance'): 2003,\n             ('a', 'balanced'): 2289,\n             ('a', 'balanced-budget'): 55,\n             ('a', 'balancing'): 269,\n             ('a', 'balcony'): 386,\n             ('a', 'bald'): 414,\n             ('a', 'bald-faced'): 28,\n             ('a', 'balding'): 138,\n             ('a', 'bale'): 91,\n             ('a', 'baleful'): 52,\n             ('a', 'balinese'): 27,\n             ('a', 'balkan'): 30,\n             ('a', 'balky'): 47,\n             ('a', 'ball'): 3621,\n             ('a', 'ballad'): 149,\n             ('a', 'ballclub'): 25,\n             ('a', 'ballerina'): 178,\n             ('a', 'ballet'): 333,\n             ('a', 'ballgame'): 116,\n             ('a', 'ballistic'): 98,\n             ('a', 'balloon'): 672,\n             ('a', 'ballooning'): 26,\n             ('a', 'ballot'): 371,\n             ('a', 'ballpark'): 178,\n             ('a', 'ballplayer'): 134,\n             ('a', 'ballpoint'): 98,\n             ('a', 'ballroom'): 142,\n             ('a', 'balm'): 80,\n             ('a', 'balmy'): 122,\n             ('a', 'balsamic'): 25,\n             ('a', 'baltimore'): 208,\n             ('a', 'bamboo'): 240,\n             ('a', 'ban'): 1215,\n             ('a', 'banal'): 46,\n             ('a', 'banana'): 597,\n             ('a', 'band'): 2368,\n             ('a', 'band-aid'): 253,\n             ('a', 'bandage'): 240,\n             ('a', 'bandaged'): 33,\n             ('a', 'bandana'): 55,\n             ('a', 'bandanna'): 113,\n             ('a', 'bandit'): 78,\n             ('a', 'bandstand'): 32,\n             ('a', 'bandwagon'): 46,\n             ('a', 'bandwidth'): 31,\n             ('a', 'bane'): 32,\n             ('a', 'bang'): 404,\n             ('a', 'bang-up'): 54,\n             ('a', 'banged-up'): 28,\n             ('a', 'banging'): 37,\n             ('a', 'banister'): 23,\n             ('a', 'banjo'): 110,\n             ('a', 'bank'): 3442,\n             ('a', 'banker'): 455,\n             ('a', 'banking'): 234,\n             ('a', 'bankrupt'): 123,\n             ('a', 'bankruptcy'): 264,\n             ('a', 'banned'): 93,\n             ('a', 'banner'): 656,\n             ('a', 'banquet'): 316,\n             ('a', 'banquette'): 39,\n             ('a', 'banshee'): 58,\n             ('a', 'baptism'): 72,\n             ('a', 'baptist'): 484,\n             ('a', 'baptized'): 23,\n             ('a', 'bar'): 3296,\n             ('a', 'barb'): 30,\n             ('a', 'barbarian'): 80,\n             ('a', 'barbaric'): 71,\n             ('a', 'barbarous'): 23,\n             ('a', 'barbecue'): 460,\n             ('a', 'barbed'): 68,\n             ('a', 'barbed-wire'): 67,\n             ('a', 'barbell'): 112,\n             ('a', 'barbeque'): 23,\n             ('a', 'barber'): 277,\n             ('a', 'barbershop'): 101,\n             ('a', 'barbie'): 130,\n             ('a', 'bard'): 46,\n             ('a', 'bare'): 691,\n             ('a', 'bare-bones'): 104,\n             ('a', 'barefoot'): 76,\n             ('a', 'barely'): 397,\n             ('a', 'bargain'): 1164,\n             ('a', 'bargain-basement'): 28,\n             ('a', 'bargaining'): 184,\n             ('a', 'barge'): 201,\n             ('a', 'baritone'): 65,\n             ('a', 'bark'): 98,\n             ('a', 'barking'): 66,\n             ('a', 'barmaid'): 30,\n             ('a', 'barn'): 531,\n             ('a', 'barnes'): 30,\n             ('a', 'barnyard'): 40,\n             ('a', 'barometer'): 156,\n             ('a', 'baron'): 34,\n             ('a', 'baroque'): 53,\n             ('a', 'barracks'): 69,\n             ('a', 'barracuda'): 37,\n             ('a', 'barrage'): 527,\n             ('a', 'barred'): 71,\n             ('a', 'barrel'): 1784,\n             ('a', 'barrel-chested'): 30,\n             ('a', 'barren'): 299,\n             ('a', 'barrette'): 30,\n             ('a', 'barricade'): 92,\n             ('a', 'barrier'): 1084,\n             ('a', 'barrio'): 29,\n             ('a', 'barrister'): 32,\n             ('a', 'barroom'): 64,\n             ('a', 'barrow'): 25,\n             ('a', 'barry'): 32,\n             ('a', 'barstool'): 48,\n             ('a', 'bartender'): 308,\n             ('a', 'barter'): 50,\n             ('a', 'bas-relief'): 38,\n             ('a', 'basal'): 33,\n             ('a', 'base'): 1897,\n             ('a', 'baseball'): 2741,\n             ('a', 'baseline'): 435,\n             ('a', 'basement'): 609,\n             ('a', 'bases-loaded'): 49,\n             ('a', 'bash'): 42,\n             ('a', 'bashful'): 28,\n             ('a', 'basic'): 3114,\n             ('a', 'basically'): 120,\n             ('a', 'basin'): 213,\n             ('a', 'basis'): 1560,\n             ('a', 'basket'): 1241,\n             ('a', 'basketball'): 1585,\n             ('a', 'basketful'): 27,\n             ('a', 'basque'): 56,\n             ('a', 'bass'): 440,\n             ('a', 'basset'): 24,\n             ('a', 'bassinet'): 31,\n             ('a', 'bassist'): 32,\n             ('a', 'bastard'): 244,\n             ('a', 'bastion'): 189,\n             ('a', 'bat'): 822,\n             ('a', 'batch'): 558,\n             ('a', 'bath'): 1290,\n             ('a', 'bathhouse'): 29,\n             ('a', 'bathing'): 297,\n             ('a', 'BATHROBE'): 170,\n             ('a', 'bathroom'): 825,\n             ('a', 'bathtub'): 262,\n             ('a', 'batman'): 35,\n             ('a', 'baton'): 166,\n             ('a', 'battalion'): 275,\n             ('a', 'batter'): 165,\n             ('a', 'battered'): 675,\n             ('a', 'batterer'): 31,\n             ('a', 'battering'): 99,\n             ('a', 'battery'): 881,\n             ('a', 'battery-operated'): 49,\n             ('a', 'battery-powered'): 85,\n             ('a', 'batting'): 107,\n             ('a', 'battle'): 2619,\n             ('a', 'battlefield'): 326,\n             ('a', 'battleground'): 229,\n             ('a', 'battler'): 23,\n             ('a', 'battleship'): 120,\n             ('a', 'bavarian'): 40,\n             ('a', 'bawdy'): 49,\n             ('a', 'bay'): 221,\n             ('a', 'bayesian'): 37,\n             ('a', 'baylor'): 29,\n             ('a', 'bayonet'): 115,\n             ('a', 'bayou'): 36,\n             ('a', 'bazaar'): 59,\n             ('a', 'bazooka'): 40,\n             ('a', 'bb'): 93,\n             ('a', 'bbc'): 112,\n             ('a', 'bcs'): 76,\n             ('a', 'be'): 126,\n             ('a', 'beach'): 1393,\n             ('a', 'beached'): 45,\n             ('a', 'beachfront'): 58,\n             ('a', 'beachhead'): 73,\n             ('a', 'beachside'): 27,\n             ('a', 'beacon'): 449,\n             ('a', 'bead'): 332,\n             ('a', 'beaded'): 168,\n             ('a', 'beagle'): 58,\n             ('a', 'beak'): 61,\n             ('a', 'beaker'): 57,\n             ('a', 'beam'): 458,\n             ('a', 'beaming'): 113,\n             ('a', 'bean'): 164,\n             ('a', 'beanbag'): 32,\n             ('a', 'beanie'): 24,\n             ('a', 'bear'): 1592,\n             ('a', 'beard'): 668,\n             ('a', 'bearded'): 287,\n             ('a', 'bearing'): 188,\n             ('a', 'bearish'): 24,\n             ('a', 'beast'): 379,\n             ('a', 'beat'): 3320,\n             ('a', 'beat-up'): 200,\n             ('a', 'beaten'): 89,\n             ('a', 'beatific'): 59,\n             ('a', 'beating'): 674,\n             ('a', 'beatle'): 41,\n             ('a', 'beatles'): 64,\n             ('a', 'beatnik'): 25,\n             ('a', 'beau'): 40,\n             ('a', 'beaut'): 35,\n             ('a', 'beautician'): 50,\n             ('a', 'beautiful'): 8346,\n             ('a', 'beautifully'): 338,\n             ('a', 'beauty'): 1026,\n             ('a', 'beaver'): 143,\n             ('a', 'beckoning'): 30,\n             ('a', 'bed'): 2732,\n             ('a', 'bed-and-breakfast'): 104,\n             ('a', 'bedbug'): 37,\n             ('a', 'bedding'): 42,\n             ('a', 'bedouin'): 23,\n             ('a', 'bedpan'): 33,\n             ('a', 'bedraggled'): 37,\n             ('a', 'bedrock'): 75,\n             ('a', 'bedroom'): 817,\n             ('a', 'bedsheet'): 51,\n             ('a', 'bedside'): 109,\n             ('a', 'bedspread'): 37,\n             ('a', 'bedtime'): 125,\n             ('a', 'bee'): 396,\n             ('a', 'beef'): 179,\n             ('a', 'beefed-up'): 38,\n             ('a', 'beefy'): 142,\n             ('a', 'beehive'): 142,\n             ('a', 'beekeeper'): 41,\n             ('a', 'beeline'): 260,\n             ('a', 'been'): 32,\n             ('a', 'beep'): 102,\n             ('a', 'beeper'): 120,\n             ('a', 'beeping'): 28,\n             ('a', 'beer'): 2576,\n             ('a', 'beet'): 44,\n             ('a', 'beethoven'): 50,\n             ('a', 'beetle'): 121,\n             ('a', 'before'): 71,\n             ('a', 'befuddled'): 28,\n             ('a', 'beggar'): 212,\n             ('a', 'begging'): 26,\n             ('a', 'beginner'): 276,\n             ('a', 'beginning'): 919,\n             ('a', 'beguiling'): 78,\n             ('a', 'behavior'): 428,\n             ('a', 'behavioral'): 339,\n             ('a', 'behaviorist'): 24,\n             ('a', 'behemoth'): 70,\n             ('a', 'behind'): 36,\n             ('a', 'behind-the-scenes'): 189,\n             ('a', 'beige'): 170,\n             ('a', 'beijing'): 84,\n             ('a', 'being'): 298,\n             ('a', 'beirut'): 30,\n             ('a', 'bejeweled'): 28,\n             ('a', 'belated'): 135,\n             ('a', 'belch'): 54,\n             ('a', 'beleaguered'): 93,\n             ('a', 'belfast'): 39,\n             ('a', 'belgian'): 217,\n             ('a', 'belgrade'): 38,\n             ('a', 'belief'): 1516,\n             ('a', 'believable'): 71,\n             ('a', 'believer'): 730,\n             ('a', 'believing'): 33,\n             ('a', 'bell'): 1038,\n             ('a', 'bell-shaped'): 23,\n             ('a', 'bellboy'): 26,\n             ('a', 'bellhop'): 42,\n             ('a', 'belligerent'): 89,\n             ('a', 'bellman'): 31,\n             ('a', 'bellow'): 47,\n             ('a', 'bellows'): 37,\n             ('a', 'bellwether'): 106,\n             ('a', 'belly'): 229,\n             ('a', 'bellyful'): 32,\n             ('a', 'beloved'): 405,\n             ('a', 'below'): 23,\n             ('a', 'below-average'): 28,\n             ('a', 'belt'): 688,\n             ('a', 'belted'): 45,\n             ('a', 'beltway'): 23,\n             ('a', 'bemused'): 119,\n             ('a', 'ben'): 41,\n             ('a', 'bench'): 1464,\n             ('a', 'benchmark'): 302,\n             ('a', 'bend'): 352,\n             ('a', 'bender'): 47,\n             ('a', 'benedictine'): 48,\n             ('a', 'benediction'): 65,\n             ('a', 'benefactor'): 60,\n             ('a', 'beneficent'): 40,\n             ('a', 'beneficial'): 259,\n             ('a', 'beneficiary'): 136,\n             ('a', 'benefit'): 1097,\n             ('a', 'benefits'): 51,\n             ('a', 'benevolent'): 250,\n             ('a', 'benign'): 399,\n             ('a', 'benin'): 24,\n             ('a', 'bent'): 181,\n             ('a', 'bentley'): 56,\n             ('a', 'bequest'): 35,\n             ('a', 'berber'): 25,\n             ('a', 'bereaved'): 34,\n             ('a', 'beret'): 89,\n             ('a', 'berkeley'): 119,\n             ('a', 'berlin'): 82,\n             ('a', 'berm'): 38,\n             ('a', 'bermuda'): 24,\n             ('a', 'berry'): 86,\n             ('a', 'berth'): 185,\n             ('a', 'besieged'): 34,\n             ('a', 'bespectacled'): 83,\n             ('a', 'best'): 870,\n             ('a', 'best-actress'): 23,\n             ('a', 'best-case'): 46,\n             ('a', 'best-seller'): 163,\n             ('a', 'best-selling'): 279,\n             ('a', 'bestseller'): 137,\n             ('a', 'bestselling'): 44,\n             ('a', 'bet'): 532,\n             ('a', 'beta'): 81,\n             ('a', 'bethesda'): 44,\n             ('a', 'betrayal'): 358,\n             ('a', 'better'): 23101,\n             ('a', 'better-paying'): 29,\n             ('a', 'better-than-average'): 41,\n             ('a', 'betting'): 99,\n             ('a', 'between-subjects'): 26,\n             ('a', 'beverage'): 140,\n             ('a', 'beverly'): 133,\n             ('a', 'bevy'): 313,\n             ('a', 'bewildered'): 74,\n             ('a', 'bewildering'): 234,\n             ('a', 'bi'): 24,\n             ('a', 'bias'): 397,\n             ('a', 'biased'): 104,\n             ('a', 'bib'): 38,\n             ('a', 'bible'): 710,\n             ('a', 'biblical'): 342,\n             ('a', 'bibliography'): 127,\n             ('a', 'bic'): 31,\n             ('a', 'bicycle'): 1196,\n             ('a', 'bicyclist'): 39,\n             ('a', 'bid'): 995,\n             ('a', 'bidding'): 176,\n             ('a', 'bidirectional'): 24,\n             ('a', 'biennial'): 49,\n             ('a', 'bifurcated'): 35,\n             ('a', 'bifurcation'): 31,\n             ('a', 'big'): 52296,\n             ('a', 'big-budget'): 55,\n             ('a', 'big-city'): 100,\n             ('a', 'big-game'): 41,\n             ('a', 'big-league'): 95,\n             ('a', 'big-money'): 31,\n             ('a', 'big-name'): 66,\n             ('a', 'big-picture'): 32,\n             ('a', 'big-play'): 29,\n             ('a', 'big-screen'): 124,\n             ('a', 'big-ticket'): 24,\n             ('a', 'big-time'): 348,\n             ('a', 'bigamist'): 27,\n             ('a', 'bigger'): 4104,\n             ('a', 'biggie'): 37,\n             ('a', 'bigot'): 187,\n             ('a', 'bigoted'): 43,\n             ('a', 'bike'): 1672,\n             ('a', 'biker'): 99,\n             ('a', 'bikini'): 286,\n             ('a', 'bilateral'): 278,\n             ('a', 'bilingual'): 186,\n             ('a', 'bill'): 5687,\n             ('a', 'billboard'): 339,\n             ('a', 'billiard'): 61,\n             ('a', 'billing'): 46,\n             ('a', 'billion'): 2268,\n             ('a', 'billion-dollar'): 247,\n             ('a', 'billionaire'): 316,\n             ('a', 'billionth'): 43,\n             ('a', 'billow'): 28,\n             ('a', 'billowing'): 71,\n             ('a', 'billy'): 87,\n             ('a', 'bimbo'): 44,\n             ('a', 'bimonthly'): 68,\n             ('a', 'bin'): 158,\n             ('a', 'binary'): 310,\n             ('a', 'binational'): 57,\n             ('a', 'bind'): 202,\n             ('a', 'binder'): 93,\n             ('a', 'binding'): 274,\n             ('a', 'binge'): 125,\n             ('a', 'bingo'): 43,\n             ('a', 'binocular'): 65,\n             ('a', 'binomial'): 26,\n             ('a', 'bio'): 53,\n             ('a', 'biochemical'): 66,\n             ('a', 'biochemist'): 86,\n             ('a', 'biodegradable'): 32,\n             ('a', 'bioethicist'): 26,\n             ('a', 'biofilter'): 36,\n             ('a', 'biographer'): 97,\n             ('a', 'biographical'): 102,\n             ('a', 'biography'): 760,\n             ('a', 'biohazard'): 29,\n             ('a', 'biological'): 1014,\n             ('a', 'biologically'): 52,\n             ('a', 'biologist'): 458,\n             ('a', 'biology'): 180,\n             ('a', 'biomedical'): 72,\n             ('a', 'biometric'): 44,\n             ('a', 'biopic'): 37,\n             ('a', 'biopsy'): 290,\n             ('a', 'biosphere'): 43,\n             ('a', 'biotech'): 138,\n             ('a', 'biotechnology'): 65,\n             ('a', 'bioterrorism'): 34,\n             ('a', 'bioterrorist'): 38,\n             ('a', 'bipartisan'): 1420,\n             ('a', 'biplane'): 25,\n             ('a', 'bipolar'): 109,\n             ('a', 'biracial'): 48,\n             ('a', 'birch'): 75,\n             ('a', 'bird'): 2827,\n             ('a', \"bird's-eye\"): 129,\n             ('a', 'birdbath'): 34,\n             ('a', 'birder'): 24,\n             ('a', 'birdhouse'): 33,\n             ('a', 'birdie'): 189,\n             ('a', 'birmingham'): 69,\n             ('a', 'birth'): 460,\n             ('a', 'birthday'): 1120,\n             ('a', 'birthing'): 33,\n             ('a', 'birthmark'): 64,\n             ('a', 'birthright'): 65,\n             ('a', 'biscuit'): 123,\n             ('a', 'bisexual'): 68,\n             ('a', 'bishop'): 432,\n             ('a', 'bison'): 47,\n             ('a', 'bistro'): 54,\n             ('a', 'bit'): 35055,\n             ('a', 'bitch'): 1767,\n             ('a', 'bite'): 1546,\n             ('a', 'biting'): 81,\n             ('a', 'bitter'): 1695,\n             ('a', 'bitterly'): 90,\n             ('a', 'bitterness'): 38,\n             ('a', 'bittersweet'): 255,\n             ('a', 'bivariate'): 26,\n             ('a', 'biweekly'): 65,\n             ('a', 'bizarre'): 881,\n             ('a', 'black'): 15482,\n             ('a', 'black-and-white'): 376,\n             ('a', 'black-haired'): 26,\n             ('a', 'black-owned'): 55,\n             ('a', 'black-tie'): 151,\n             ('a', 'black-white'): 23,\n             ('a', 'blackberry'): 69,\n             ('a', 'blackbird'): 48,\n             ('a', 'blackboard'): 180,\n             ('a', 'blackened'): 89,\n             ('a', 'blackhawk'): 35,\n             ('a', 'blackjack'): 57,\n             ('a', 'blackness'): 29,\n             ('a', 'blackout'): 103,\n             ('a', 'blacksmith'): 188,\n             ('a', 'bladder'): 75,\n             ('a', 'blade'): 410,\n             ('a', 'blameless'): 25,\n             ('a', 'bland'): 203,\n             ('a', 'blank'): 1577,\n             ('a', 'blanket'): 2062,\n             ('a', 'blaring'): 29,\n             ('a', 'blast'): 1049,\n             ('a', 'blasted'): 32,\n             ('a', 'blaster'): 26,\n             ('a', 'blatant'): 221,\n             ('a', 'blatantly'): 31,\n             ('a', 'blaze'): 282,\n             ('a', 'blazer'): 102,\n             ('a', 'blazing'): 247,\n             ('a', 'bleach'): 24,\n             ('a', 'bleached'): 55,\n             ('a', 'bleak'): 415,\n             ('a', 'bleary-eyed'): 26,\n             ('a', 'bleeding'): 162,\n             ('a', 'blemish'): 65,\n             ('a', 'blend'): 778,\n             ('a', 'blended'): 80,\n             ('a', 'blender'): 821,\n             ('a', 'blending'): 75,\n             ('a', 'blessed'): 171,\n             ('a', 'blessing'): 1527,\n             ('a', 'blight'): 87,\n             ('a', 'blighted'): 43,\n             ('a', 'blimp'): 48,\n             ('a', 'blind'): 1939,\n             ('a', 'blindfold'): 98,\n             ('a', 'blindfolded'): 30,\n             ('a', 'blinding'): 285,\n             ('a', 'blink'): 227,\n             ('a', 'blinking'): 84,\n             ('a', 'blip'): 279,\n             ('a', 'blissful'): 82,\n             ('a', 'blister'): 136,\n             ('a', 'blistering'): 219,\n             ('a', 'blithe'): 26,\n             ('a', 'blitz'): 91,\n             ('a', 'blitzkrieg'): 25,\n             ('a', 'blizzard'): 475,\n             ('a', 'blm'): 24,\n             ('a', 'bloated'): 156,\n             ('a', 'blob'): 82,\n             ('a', 'bloc'): 81,\n             ('a', 'block'): 2535,\n             ('a', 'blockade'): 170,\n             ('a', 'blockage'): 81,\n             ('a', 'blockbuster'): 280,\n             ('a', 'blocked'): 128,\n             ('a', 'blocker'): 52,\n             ('a', 'blocking'): 81,\n             ('a', 'blocky'): 29,\n             ('a', 'blog'): 390,\n             ('a', 'blogger'): 92,\n             ('a', 'bloke'): 27,\n             ('a', 'blond'): 468,\n             ('a', 'blonde'): 350,\n             ('a', 'blood'): 1671,\n             ('a', 'blood-alcohol'): 31,\n             ('a', 'blood-curdling'): 27,\n             ('a', 'blood-red'): 49,\n             ('a', 'blood-soaked'): 28,\n             ('a', 'blood-stained'): 23,\n             ('a', 'bloodbath'): 132,\n             ('a', 'bloodhound'): 56,\n             ('a', 'bloodied'): 54,\n             ('a', 'bloodless'): 124,\n             ('a', 'bloodstain'): 28,\n             ('a', 'bloodstained'): 25,\n             ('a', 'bloodthirsty'): 47,\n             ('a', 'bloody'): 1492,\n             ('a', 'bloom'): 57,\n             ('a', 'bloomberg'): 30,\n             ('a', 'blooming'): 53,\n             ('a', 'blossom'): 57,\n             ('a', 'blossoming'): 63,\n             ('a', 'blot'): 60,\n             ('a', 'blouse'): 154,\n             ('a', 'blow'): 1258,\n             ('a', 'blow-by-blow'): 26,\n             ('a', 'blow-dryer'): 36,\n             ('a', 'blow-up'): 35,\n             ('a', 'blower'): 34,\n             ('a', 'blowhard'): 24,\n             ('a', 'blowjob'): 27,\n             ('a', 'blown'): 79,\n             ('a', 'blown-up'): 37,\n             ('a', 'blowout'): 191,\n             ('a', 'blowtorch'): 80,\n             ('a', 'blowup'): 46,\n             ('a', 'blt'): 38,\n             ('a', 'blu-ray'): 41,\n             ('a', 'bludgeon'): 24,\n             ('a', 'blue'): 3771,\n             ('a', 'blue-and-white'): 59,\n             ('a', 'blue-chip'): 45,\n             ('a', 'blue-collar'): 227,\n             ('a', 'blue-eyed'): 64,\n             ('a', 'blue-gray'): 33,\n             ('a', 'blue-green'): 36,\n             ('a', 'blue-ribbon'): 84,\n             ('a', 'blue-white'): 24,\n             ('a', 'blueberry'): 57,\n             ('a', 'bluebird'): 49,\n             ('a', 'bluegrass'): 61,\n             ('a', 'blueprint'): 560,\n             ('a', 'blues'): 167,\n             ('a', 'bluesy'): 26,\n             ('a', 'bluetooth'): 43,\n             ('a', 'bluff'): 328,\n             ('a', 'bluish'): 91,\n             ('a', 'blunder'): 80,\n             ('a', 'blunt'): 388,\n             ('a', 'blur'): 961,\n             ('a', 'blurb'): 37,\n             ('a', 'blurred'): 86,\n             ('a', 'blurring'): 83,\n             ('a', 'blurry'): 108,\n             ('a', 'blush'): 128,\n             ('a', 'blushing'): 23,\n             ('a', 'blustery'): 93,\n             ('a', 'bmi'): 95,\n             ('a', 'bmw'): 222,\n             ('a', 'boa'): 69,\n             ('a', 'boar'): 86,\n             ('a', 'board'): 1968,\n             ('a', 'board-certified'): 94,\n             ('a', 'boarded-up'): 42,\n             ('a', 'boarder'): 52,\n             ('a', 'boarding'): 260,\n             ('a', 'boardinghouse'): 50,\n             ('a', 'boardroom'): 53,\n             ('a', 'boardwalk'): 52,\n             ('a', 'boast'): 46,\n             ('a', 'boastful'): 26,\n             ('a', 'boat'): 3021,\n             ('a', 'boater'): 28,\n             ('a', 'boating'): 88,\n             ('a', 'boatload'): 93,\n             ('a', 'boatman'): 23,\n             ('a', 'bob'): 94,\n             ('a', 'bobber'): 38,\n             ('a', 'bobbing'): 30,\n             ('a', 'bobby'): 59,\n             ('a', 'bobcat'): 67,\n             ('a', 'bobsled'): 28,\n             ('a', 'boca'): 50,\n             ('a', 'bodega'): 26,\n             ('a', 'bodily'): 73,\n             ('a', 'body'): 4308,\n             ('a', 'bodybuilder'): 68,\n             ('a', 'bodyguard'): 282,\n             ('a', 'boeing'): 209,\n             ('a', 'bog'): 103,\n             ('a', 'bogey'): 120,\n             ('a', 'bogus'): 183,\n             ('a', 'bohemian'): 99,\n             ('a', 'boil'): 3146,\n             ('a', 'boiled'): 84,\n             ('a', 'boiler'): 84,\n             ('a', 'boiling'): 160,\n             ('a', 'boiling-water'): 25,\n             ('a', 'boisterous'): 99,\n             ('a', 'bold'): 1275,\n             ('a', 'bolder'): 64,\n             ('a', 'boldly'): 24,\n             ('a', 'bolivian'): 54,\n             ('a', 'bolo'): 29,\n             ('a', 'bolshevik'): 32,\n             ('a', 'bolt'): 495,\n             ('a', 'bolus'): 28,\n             ('a', 'bomb'): 2691,\n             ('a', 'bombardment'): 36,\n             ('a', 'bombastic'): 23,\n             ('a', 'bombed-out'): 44,\n             ('a', 'bomber'): 153,\n             ('a', 'bombing'): 320,\n             ('a', 'bombshell'): 205,\n             ('a', 'bon'): 58,\n             ('a', 'bona'): 374,\n             ('a', 'bona-fide'): 24,\n             ('a', 'bonafide'): 34,\n             ('a', 'bonanza'): 194,\n             ('a', 'bond'): 1136,\n             ('a', 'bonding'): 92,\n             ('a', 'bone'): 1058,\n             ('a', 'bone-chilling'): 25,\n             ('a', 'bone-marrow'): 38,\n             ('a', 'bonefish'): 25,\n             ('a', 'boneless'): 32,\n             ('a', 'boner'): 25,\n             ('a', 'bonferroni'): 46,\n             ('a', 'bonfire'): 241,\n             ('a', 'bong'): 33,\n             ('a', 'bonnet'): 36,\n             ('a', 'bonsai'): 31,\n             ('a', 'bonus'): 1089,\n             ('a', 'bony'): 163,\n             ('a', 'boob'): 50,\n             ('a', 'booby'): 43,\n             ('a', 'book'): 15941,\n             ('a', 'book-length'): 35,\n             ('a', 'bookcase'): 145,\n             ('a', 'bookie'): 62,\n             ('a', 'booking'): 41,\n             ('a', 'bookish'): 59,\n             ('a', 'bookkeeper'): 116,\n             ('a', 'bookkeeping'): 24,\n             ('a', 'booklet'): 216,\n             ('a', 'bookmark'): 58,\n             ('a', 'bookseller'): 41,\n             ('a', 'bookshelf'): 130,\n             ('a', 'bookshop'): 44,\n             ('a', 'bookstore'): 438,\n             ('a', 'bookworm'): 41,\n             ('a', 'boom'): 619,\n             ('a', 'boombox'): 24,\n             ('a', 'boomer'): 53,\n             ('a', 'boomerang'): 71,\n             ('a', 'booming'): 593,\n             ('a', 'boomtown'): 30,\n             ('a', 'boon'): 678,\n             ('a', 'boondoggle'): 37,\n             ('a', 'boost'): 1103,\n             ('a', 'booster'): 201,\n             ('a', 'boot'): 385,\n             ('a', 'booth'): 539,\n             ('a', 'bootleg'): 54,\n             ('a', 'bootlegger'): 40,\n             ('a', 'booty'): 32,\n             ('a', 'boozy'): 26,\n             ('a', 'bordello'): 45,\n             ('a', 'border'): 787,\n             ('a', 'borderless'): 26,\n             ('a', 'borderline'): 127,\n             ('a', 'bore'): 208,\n             ('a', 'bored'): 173,\n             ('a', 'boring'): 363,\n             ('a', 'born'): 306,\n             ('a', 'born-again'): 171,\n             ('a', 'borough'): 26,\n             ('a', 'borrowed'): 195,\n             ('a', 'borrower'): 118,\n             ('a', 'bosnia'): 27,\n             ('a', 'bosnian'): 151,\n             ('a', 'bosom'): 29,\n             ('a', 'boss'): 360,\n             ('a', 'boston'): 698,\n             ('a', 'boston-area'): 27,\n             ('a', 'boston-based'): 96,\n             ('a', 'bot'): 42,\n             ('a', 'botanical'): 97,\n             ('a', 'botanist'): 122,\n             ('a', 'botched'): 209,\n             ('a', 'bother'): 117,\n             ('a', 'bothersome'): 30,\n             ('a', 'bottle'): 4996,\n             ('a', 'bottled'): 24,\n             ('a', 'bottleneck'): 81,\n             ('a', 'bottom'): 295,\n             ('a', 'bottom-line'): 31,\n             ('a', 'bottom-up'): 64,\n             ('a', 'bottomless'): 154,\n             ('a', 'boulder'): 447,\n             ('a', 'boulevard'): 49,\n             ('a', 'bounce'): 153,\n             ('a', 'bouncer'): 103,\n             ('a', 'bouncing'): 61,\n             ('a', 'bouncy'): 57,\n             ('a', 'bound'): 112,\n             ('a', 'boundary'): 237,\n             ('a', 'bounded'): 57,\n             ('a', 'boundless'): 62,\n             ('a', 'bountiful'): 111,\n             ('a', 'bounty'): 296,\n             ('a', 'bouquet'): 472,\n             ('a', 'bourbon'): 69,\n             ('a', 'bourgeois'): 124,\n             ('a', 'bout'): 383,\n             ('a', 'boutique'): 227,\n             ('a', 'bow'): 992,\n             ('a', 'bowed'): 24,\n             ('a', 'bowel'): 62,\n             ('a', 'bower'): 28,\n             ('a', 'bowhunter'): 37,\n             ('a', 'bowie'): 32,\n             ('a', 'bowl'): 3895,\n             ('a', 'bowler'): 64,\n             ('a', 'bowling'): 321,\n             ('a', 'box'): 4755,\n             ('a', 'box-office'): 80,\n             ('a', 'boxcar'): 66,\n             ('a', 'boxed'): 71,\n             ('a', 'boxer'): 344,\n             ('a', 'boxing'): 259,\n             ('a', 'boxy'): 94,\n             ('a', 'boy'): 8696,\n             ('a', 'boycott'): 448,\n             ('a', 'boyfriend'): 981,\n             ('a', 'boyhood'): 57,\n             ('a', 'boyish'): 145,\n             ('a', 'boys'): 164,\n             ('a', 'bp'): 41,\n             ('a', 'bra'): 328,\n             ('a', 'brace'): 194,\n             ('a', 'bracelet'): 197,\n             ('a', 'bracing'): 91,\n             ('a', 'bracket'): 55,\n             ('a', 'bradley'): 69,\n             ('a', 'braggart'): 36,\n             ('a', 'braid'): 109,\n             ('a', 'braided'): 84,\n             ('a', 'braille'): 90,\n             ('a', 'braillewriter'): 23,\n             ('a', 'brain'): 1599,\n             ('a', 'brainstorm'): 46,\n             ('a', 'brainstorming'): 37,\n             ('a', 'brainy'): 30,\n             ('a', 'brake'): 171,\n             ('a', 'bramble'): 25,\n             ('a', 'branch'): 1302,\n             ('a', 'branching'): 30,\n             ('a', 'brand'): 1458,\n             ('a', 'brand-name'): 50,\n             ('a', 'brand-new'): 1056,\n             ('a', 'branding'): 51,\n             ('a', 'brandy'): 91,\n             ('a', 'brash'): 132,\n             ('a', 'brass'): 448,\n             ('a', 'brassiere'): 31,\n             ('a', 'brassy'): 41,\n             ('a', 'brat'): 77,\n             ('a', 'bratty'): 26,\n             ('a', 'brave'): 798,\n             ('a', 'bravura'): 36,\n             ('a', 'brawl'): 190,\n             ('a', 'brawny'): 57,\n             ('a', 'brazen'): 91,\n             ('a', 'brazier'): 28,\n             ('a', 'brazilian'): 269,\n             ('a', 'breach'): 425,\n             ('a', 'bread'): 224,\n             ('a', 'breadth'): 57,\n             ('a', 'breadwinner'): 31,\n             ('a', 'break'): 9882,\n             ('a', 'break-even'): 36,\n             ('a', 'break-in'): 126,\n             ('a', 'break-up'): 29,\n             ('a', 'breakaway'): 124,\n             ('a', 'breakdown'): 738,\n             ('a', 'breakfast'): 554,\n             ('a', 'breaking'): 292,\n             ('a', 'breakneck'): 50,\n             ('a', 'breakout'): 159,\n             ('a', 'breakthrough'): 970,\n             ('a', 'breakup'): 233,\n             ('a', 'breast'): 525,\n             ('a', 'breast-cancer'): 32,\n             ('a', 'breastfeeding'): 28,\n             ('a', 'breath'): 2033,\n             ('a', 'breathable'): 41,\n             ('a', 'breathalyzer'): 47,\n             ('a', 'breather'): 255,\n             ('a', 'breathing'): 199,\n             ('a', 'breathless'): 136,\n             ('a', 'breathtaking'): 292,\n             ('a', 'breathtakingly'): 29,\n             ('a', 'breathy'): 56,\n             ('a', 'breech'): 36,\n             ('a', 'breed'): 172,\n             ('a', 'breeder'): 70,\n             ('a', 'breeding'): 292,\n             ('a', 'breeze'): 1143,\n             ('a', 'breezy'): 150,\n             ('a', 'brew'): 64,\n             ('a', 'brewery'): 80,\n             ('a', 'brewing'): 45,\n             ('a', 'brewpub'): 24,\n             ('a', 'bribe'): 309,\n             ('a', 'bribery'): 46,\n             ('a', 'brick'): 1089,\n             ('a', 'bricklayer'): 51,\n             ('a', 'bridal'): 105,\n             ('a', 'bride'): 454,\n             ('a', 'bridesmaid'): 98,\n             ('a', 'bridge'): 2197,\n             ('a', 'bridging'): 24,\n             ('a', 'bridle'): 30,\n             ('a', 'brief'): 7847,\n             ('a', 'briefcase'): 420,\n             ('a', 'briefer'): 23,\n             ('a', 'briefing'): 535,\n             ('a', 'brigade'): 118,\n             ('a', 'brigadier'): 48,\n             ('a', 'bright'): 4141,\n             ('a', 'bright-eyed'): 30,\n             ('a', 'bright-red'): 34,\n             ('a', 'brightening'): 25,\n             ('a', 'brighter'): 325,\n             ('a', 'brightly'): 222,\n             ('a', 'brightness'): 44,\n             ('a', 'brilliant'): 2652,\n             ('a', 'brilliantly'): 103,\n             ('a', 'brillo'): 24,\n             ('a', 'brim'): 23,\n             ('a', 'brimming'): 29,\n             ('a', 'brine'): 30,\n             ('a', 'brisk'): 725,\n             ('a', 'bristle'): 30,\n             ('a', 'bristling'): 31,\n             ('a', 'bristly'): 25,\n             ('a', 'british'): 2578,\n             ('a', 'briton'): 47,\n             ('a', 'brittle'): 105,\n             ('a', 'broad'): 6064,\n             ('a', 'broad-based'): 317,\n             ('a', 'broad-brimmed'): 31,\n             ('a', 'broad-shouldered'): 32,\n             ('a', 'broad-spectrum'): 49,\n             ('a', 'broadband'): 117,\n             ('a', 'broadcast'): 290,\n             ('a', 'broadcaster'): 133,\n             ('a', 'broadcasting'): 60,\n             ('a', 'broadened'): 44,\n             ('a', 'broadening'): 70,\n             ('a', 'broader'): 3197,\n             ('a', 'broadly'): 174,\n             ('a', 'broadside'): 56,\n             ('a', 'broadway'): 507,\n             ...})"
     },
     "execution_count": 9,
     "metadata": {},
     "output_type": "execute_result"
    }
   ],
   "source": [
    "bigram_count"
   ],
   "metadata": {
    "collapsed": false,
    "ExecuteTime": {
     "end_time": "2024-03-22T19:09:22.771057Z",
     "start_time": "2024-03-22T19:09:22.651823300Z"
    }
   }
  },
  {
   "cell_type": "code",
   "execution_count": 10,
   "outputs": [
    {
     "name": "stdout",
     "output_type": "stream",
     "text": [
      "573516412\n"
     ]
    }
   ],
   "source": [
    "# Convert to dictionary of word: count\n",
    "vocabulary = defaultdict(int)\n",
    "\n",
    "for word1, word2 in bigram_count.keys():\n",
    "    vocabulary[word1] += bigram_count[(word1, word2)]\n",
    "    vocabulary[word2] += bigram_count[(word1, word2)]\n",
    "    \n",
    "vocabulary_total = sum(vocabulary.values())\n",
    "print(vocabulary_total)"
   ],
   "metadata": {
    "collapsed": false,
    "ExecuteTime": {
     "end_time": "2024-03-22T19:09:24.128007700Z",
     "start_time": "2024-03-22T19:09:22.771057Z"
    }
   }
  },
  {
   "cell_type": "markdown",
   "source": [
    "### Checker for known words"
   ],
   "metadata": {
    "collapsed": false
   }
  },
  {
   "cell_type": "code",
   "execution_count": 11,
   "outputs": [],
   "source": [
    "def known(words):\n",
    "    \"\"\"\n",
    "    Method to get all known words from the input list of words\n",
    "    :param words: list of str\n",
    "    :return: set of str\n",
    "    \"\"\"\n",
    "    return set(w for w in words if vocabulary[w] > 0)"
   ],
   "metadata": {
    "collapsed": false,
    "ExecuteTime": {
     "end_time": "2024-03-22T19:09:24.128007700Z",
     "start_time": "2024-03-22T19:09:24.120431300Z"
    }
   }
  },
  {
   "cell_type": "markdown",
   "source": [
    "### Get all words at a given Levenshtein distance"
   ],
   "metadata": {
    "collapsed": false
   }
  },
  {
   "cell_type": "code",
   "execution_count": 12,
   "outputs": [],
   "source": [
    "from functools import lru_cache\n",
    "\n",
    "@lru_cache(maxsize=None)\n",
    "def get_words_at_levenshtein_distance(word, distance):\n",
    "    \"\"\"\n",
    "    Method to get all words at a given Levenshtein distance from the input word\n",
    "    :param word: str\n",
    "    :param distance: int\n",
    "    :return: set of str\n",
    "    \"\"\"\n",
    "    alphabet = 'abcdefghijklmnopqrstuvwxyz'\n",
    "\n",
    "    if distance == 0:\n",
    "        return {word}\n",
    "\n",
    "    if distance == 1:\n",
    "        splits      = [(word[:i], word[i:])     for i in range(len(word) + 1)]\n",
    "        deletes     = [a + b[1:]                for a, b in splits if b]\n",
    "        transposes  = [a + b[1] + b[0] + b[2:]  for a, b in splits if len(b) > 1]\n",
    "        replaces    = [a + c + b[1:]            for a, b in splits if b for c in alphabet]\n",
    "        inserts     = [a + c + b                for a, b in splits for c in alphabet]\n",
    "        return set(deletes + transposes + replaces + inserts)\n",
    "    \n",
    "    else:\n",
    "        output = set()\n",
    "        for w in get_words_at_levenshtein_distance(word, distance - 1):\n",
    "            output |= get_words_at_levenshtein_distance(w, 1)\n",
    "        return output"
   ],
   "metadata": {
    "collapsed": false,
    "ExecuteTime": {
     "end_time": "2024-03-22T19:09:24.197872900Z",
     "start_time": "2024-03-22T19:09:24.162630Z"
    }
   }
  },
  {
   "cell_type": "code",
   "execution_count": 13,
   "outputs": [
    {
     "name": "stdout",
     "output_type": "stream",
     "text": [
      "{'mih', 'mta', 'hth', 'mzth', 'mthk', 'pth', 'sth', 'mthy', 'mtp', 'muh', 'mtwh', 'uth', 'mtha', 'mmh', 'mtx', 'eth', 'mnth', 'mtyh', 'mt', 'cmth', 'vmth', 'mdh', 'mts', 'mtbh', 'mtoh', 'mtn', 'mthw', 'mtjh', 'mtdh', 'rmth', 'mtgh', 'mtxh', 'mti', 'mtw', 'mtd', 'moh', 'mvh', 'mtl', 'mthh', 'jth', 'mthx', 'mtho', 'mah', 'mtz', 'mthg', 'mrh', 'emth', 'mwh', 'mthd', 'mthe', 'mtt', 'mjh', 'mtsh', 'mfh', 'mtrh', 'mxh', 'pmth', 'gth', 'gmth', 'wmth', 'imth', 'mgth', 'mtr', 'qmth', 'mtth', 'mthv', 'mths', 'tmth', 'mtu', 'lth', 'mzh', 'mthr', 'zmth', 'mthn', 'mtk', 'zth', 'xmth', 'mtvh', 'hmth', 'mthq', 'mth', 'kth', 'mch', 'mtlh', 'mtuh', 'umth', 'mtg', 'mtv', 'mto', 'mtb', 'mtm', 'mthf', 'mteh', 'mthm', 'mjth', 'mph', 'mcth', 'mtc', 'mfth', 'dmth', 'nth', 'nmth', 'dth', 'th', 'mbh', 'mtj', 'mthc', 'mthz', 'mtnh', 'jmth', 'mhth', 'qth', 'mgh', 'ath', 'oth', 'mmth', 'mqh', 'vth', 'rth', 'mlth', 'msh', 'cth', 'mvth', 'mkth', 'mwth', 'yth', 'math', 'omth', 'msth', 'mthj', 'mrth', 'mith', 'moth', 'mtq', 'ith', 'mty', 'mthb', 'smth', 'mtqh', 'tmh', 'mhh', 'mthu', 'mthp', 'mthl', 'mbth', 'mte', 'mtah', 'amth', 'tth', 'mkh', 'bmth', 'mht', 'meth', 'myh', 'xth', 'mtf', 'fmth', 'mdth', 'mtih', 'myth', 'mtmh', 'mh', 'mlh', 'meh', 'muth', 'ymth', 'mtkh', 'mnh', 'mpth', 'mtch', 'mxth', 'mtph', 'kmth', 'mthi', 'mtfh', 'mtzh', 'wth', 'mtht', 'lmth', 'fth', 'mqth', 'bth'}\n"
     ]
    }
   ],
   "source": [
    "print(get_words_at_levenshtein_distance('mth', 1))"
   ],
   "metadata": {
    "collapsed": false,
    "ExecuteTime": {
     "end_time": "2024-03-22T19:09:24.218398600Z",
     "start_time": "2024-03-22T19:09:24.177556200Z"
    }
   }
  },
  {
   "cell_type": "code",
   "execution_count": 14,
   "outputs": [
    {
     "data": {
      "text/plain": "{'deng',\n 'feng',\n 'kang',\n 'keg',\n 'ken',\n 'kent',\n 'king',\n 'kong',\n 'kung',\n 'peng',\n 'seng'}"
     },
     "execution_count": 14,
     "metadata": {},
     "output_type": "execute_result"
    }
   ],
   "source": [
    "known(get_words_at_levenshtein_distance('keng', 1))"
   ],
   "metadata": {
    "collapsed": false,
    "ExecuteTime": {
     "end_time": "2024-03-22T19:09:25.154139500Z",
     "start_time": "2024-03-22T19:09:25.092256200Z"
    }
   }
  },
  {
   "cell_type": "markdown",
   "source": [
    "### With the above helper functions, we can now get set of candidates for a given word"
   ],
   "metadata": {
    "collapsed": false
   }
  },
  {
   "cell_type": "code",
   "execution_count": 15,
   "outputs": [],
   "source": [
    "def word_candidates(word, distance=1):\n",
    "    candidates = known([word])\n",
    "\n",
    "    n = 1\n",
    "    while not candidates and n <= distance:\n",
    "        candidates |= known(get_words_at_levenshtein_distance(word, n))\n",
    "        n += 1\n",
    "\n",
    "    if not candidates:\n",
    "        return {word}\n",
    "\n",
    "    return candidates"
   ],
   "metadata": {
    "collapsed": false,
    "ExecuteTime": {
     "end_time": "2024-03-22T19:09:25.155188600Z",
     "start_time": "2024-03-22T19:09:25.101808200Z"
    }
   }
  },
  {
   "cell_type": "code",
   "execution_count": 16,
   "outputs": [
    {
     "data": {
      "text/plain": "{'deng',\n 'feng',\n 'kang',\n 'keg',\n 'ken',\n 'kent',\n 'king',\n 'kong',\n 'kung',\n 'peng',\n 'seng'}"
     },
     "execution_count": 16,
     "metadata": {},
     "output_type": "execute_result"
    }
   ],
   "source": [
    "word_candidates('keng')"
   ],
   "metadata": {
    "collapsed": false,
    "ExecuteTime": {
     "end_time": "2024-03-22T19:09:26.126507400Z",
     "start_time": "2024-03-22T19:09:26.105798600Z"
    }
   }
  },
  {
   "cell_type": "markdown",
   "source": [
    "### Now we can get suggestions for a given word"
   ],
   "metadata": {
    "collapsed": false
   }
  },
  {
   "cell_type": "code",
   "execution_count": 17,
   "outputs": [],
   "source": [
    "def unigram_suggestions(word, edit_distance):\n",
    "    \"\"\"\n",
    "    Method to get suggestions for the input word\n",
    "    :param word: 1 word\n",
    "    :param edit_distance: int \n",
    "    :return: suggestion\n",
    "    \"\"\"\n",
    "    candidates = word_candidates(word, edit_distance)\n",
    "\n",
    "    suggestions = []\n",
    "    for word in candidates:\n",
    "        prob = vocabulary[word] / vocabulary_total\n",
    "        if prob > 0:\n",
    "            suggestions.append((word, prob))\n",
    "\n",
    "    return sorted(suggestions, key=lambda x: x[1], reverse=True)"
   ],
   "metadata": {
    "collapsed": false,
    "ExecuteTime": {
     "end_time": "2024-03-22T19:09:26.127512Z",
     "start_time": "2024-03-22T19:09:26.119973400Z"
    }
   }
  },
  {
   "cell_type": "code",
   "execution_count": 18,
   "outputs": [
    {
     "data": {
      "text/plain": "[('king', 7.63238838228748e-05),\n ('kong', 2.1540795941511783e-05),\n ('ken', 1.570486879109573e-05),\n ('kent', 5.797567306583024e-06),\n ('deng', 2.2981033714515568e-06),\n ('kung', 1.229258631922115e-06),\n ('keg', 7.009389645853761e-07),\n ('feng', 6.817590426688609e-07),\n ('peng', 4.045219895119584e-07),\n ('seng', 2.80724311687178e-07),\n ('kang', 1.4472122900643337e-07)]"
     },
     "execution_count": 18,
     "metadata": {},
     "output_type": "execute_result"
    }
   ],
   "source": [
    "unigram_suggestions('keng', 1)"
   ],
   "metadata": {
    "collapsed": false,
    "ExecuteTime": {
     "end_time": "2024-03-22T19:09:26.750595900Z",
     "start_time": "2024-03-22T19:09:26.738961300Z"
    }
   }
  },
  {
   "cell_type": "markdown",
   "source": [
    "### Now we can get suggestions for a bigram"
   ],
   "metadata": {
    "collapsed": false
   }
  },
  {
   "cell_type": "code",
   "execution_count": 19,
   "outputs": [],
   "source": [
    "def bigram_suggestions(bigram, distance=1, left=True):\n",
    "    candidates = word_candidates(bigram[0 if left else 1], distance)\n",
    "\n",
    "    bigram_candidates = set()\n",
    "    for candidate in candidates:\n",
    "        if left:\n",
    "            bigram_candidates.add((candidate, bigram[1]))\n",
    "        else:\n",
    "            bigram_candidates.add((bigram[0], candidate))\n",
    "\n",
    "    suggestions = []\n",
    "    for candidate in bigram_candidates:\n",
    "        prob = bigram_count[candidate[0], candidate[1]] / vocabulary[word1] if vocabulary[word1] > 0 else 0\n",
    "        if prob > 0:\n",
    "            suggestions.append((candidate, prob))\n",
    "\n",
    "    return sorted(suggestions, key=lambda x: x[1], reverse=True)"
   ],
   "metadata": {
    "collapsed": false,
    "ExecuteTime": {
     "end_time": "2024-03-22T19:09:29.366667600Z",
     "start_time": "2024-03-22T19:09:29.356861800Z"
    }
   }
  },
  {
   "cell_type": "code",
   "execution_count": 20,
   "outputs": [
    {
     "data": {
      "text/plain": "[(('a', 'king'), 17.041666666666668),\n (('a', 'keg'), 1.375),\n (('a', 'ken'), 0.5),\n (('a', 'kung'), 0.4583333333333333),\n (('a', 'feng'), 0.3888888888888889)]"
     },
     "execution_count": 20,
     "metadata": {},
     "output_type": "execute_result"
    }
   ],
   "source": [
    "bigram_suggestions(('a', 'keng'), 1, left=False)"
   ],
   "metadata": {
    "collapsed": false,
    "ExecuteTime": {
     "end_time": "2024-03-22T19:09:30.028197200Z",
     "start_time": "2024-03-22T19:09:30.015831400Z"
    }
   }
  },
  {
   "cell_type": "markdown",
   "source": [
    "### Now we can implement the autocorrect method"
   ],
   "metadata": {
    "collapsed": false
   }
  },
  {
   "cell_type": "code",
   "execution_count": 21,
   "outputs": [],
   "source": [
    "def autocorrect(sentence, distance = 1):\n",
    "    \"\"\"\n",
    "    Method to correct the input sentence\n",
    "    :param sentence: str\n",
    "    :param distance: int \n",
    "    :return: str\n",
    "    \"\"\"\n",
    "    words = sentence.split()\n",
    "\n",
    "    if len(words) == 0:\n",
    "        return []\n",
    "\n",
    "    corrected = []\n",
    "\n",
    "    for i in range(0, len(words)):\n",
    "        # Get bigram suggestions for right and left\n",
    "        r_sug = bigram_suggestions((words[i - 1], words[i]), distance, left=False) if i != 0 else []\n",
    "        r_sug = [(w, p) for ((_, w), p) in r_sug]\n",
    "\n",
    "        l_sug = bigram_suggestions((words[i], words[i + 1]), distance, left=True) if i != len(words) - 1 else []\n",
    "        l_sug = [(w, p) for ((w, _), p) in l_sug]\n",
    "\n",
    "        all_sug = l_sug + r_sug\n",
    "\n",
    "        # if there are no suggestions, try unigram suggestions\n",
    "        if len(all_sug) == 0 and not known([words[i]]):\n",
    "            all_sug = unigram_suggestions(words[i], distance)\n",
    "\n",
    "        # if still no suggestions, add the word as is\n",
    "        if len(all_sug) == 0:\n",
    "            corrected.append(words[i])\n",
    "            continue\n",
    "\n",
    "        # Pick the word by the max sum of unigram and bigram probabilities\n",
    "        probs = defaultdict(float)\n",
    "        for word, probability in all_sug:\n",
    "            probs[word] += probability\n",
    "            \n",
    "        corrected.append(max(probs, key=probs.get)) if len(probs) > 0 else corrected.append(words[i])\n",
    "\n",
    "    return \" \".join(corrected)"
   ],
   "metadata": {
    "collapsed": false,
    "ExecuteTime": {
     "end_time": "2024-03-22T19:09:31.150405400Z",
     "start_time": "2024-03-22T19:09:31.145346600Z"
    }
   }
  },
  {
   "cell_type": "code",
   "execution_count": 22,
   "outputs": [
    {
     "data": {
      "text/plain": "'he would like to go to the park but there was an accident on the way'"
     },
     "execution_count": 22,
     "metadata": {},
     "output_type": "execute_result"
    }
   ],
   "source": [
    "autocorrect('Me wold like to go to the park but thera wus an acident on the way')"
   ],
   "metadata": {
    "collapsed": false,
    "ExecuteTime": {
     "end_time": "2024-03-22T19:09:31.843701100Z",
     "start_time": "2024-03-22T19:09:31.830530700Z"
    }
   }
  },
  {
   "cell_type": "code",
   "execution_count": 23,
   "outputs": [],
   "source": [
    "def norvig_correction(word: str, edit_distance: int = 1) -> str:\n",
    "    candidates = word_candidates(word, edit_distance)\n",
    "    # choose the best candidate\n",
    "    return max(candidates, key=vocabulary.get)\n",
    "\n",
    "\n",
    "def norvig_autocorrect(sentence: str, edit_distance: int = 1) -> str:\n",
    "    sentence_corrected = []\n",
    "\n",
    "    for word in sentence.split():\n",
    "        sentence_corrected.append(norvig_correction(word, edit_distance))\n",
    "\n",
    "    return \" \".join(sentence_corrected)"
   ],
   "metadata": {
    "collapsed": false,
    "ExecuteTime": {
     "end_time": "2024-03-22T19:09:31.857789200Z",
     "start_time": "2024-03-22T19:09:31.849288400Z"
    }
   }
  },
  {
   "cell_type": "code",
   "execution_count": 24,
   "outputs": [
    {
     "data": {
      "text/plain": "'he would like to go to the park but there was an accident on the way'"
     },
     "execution_count": 24,
     "metadata": {},
     "output_type": "execute_result"
    }
   ],
   "source": [
    "norvig_autocorrect('Me wold like to go to the park but thera wus an acident on the way')"
   ],
   "metadata": {
    "collapsed": false,
    "ExecuteTime": {
     "end_time": "2024-03-22T19:09:33.137910300Z",
     "start_time": "2024-03-22T19:09:33.132063100Z"
    }
   }
  },
  {
   "cell_type": "markdown",
   "metadata": {
    "id": "oML-5sJwGRLE"
   },
   "source": [
    "## Justify your decisions\n",
    "\n",
    "Write down justificaitons for your implementation choices. For example, these choices could be:\n",
    "- Which ngram dataset to use\n",
    "- Which weights to assign for edit1, edit2 or absent words probabilities\n",
    "- Beam search parameters\n",
    "- etc."
   ]
  },
  {
   "cell_type": "markdown",
   "metadata": {
    "id": "6Xb_twOmVsC6"
   },
   "source": [
    "For my implementation I used bigram dataset, which can obviously be limiting in correctness. It is still better than baseline for unigram, but sure is showing poorer performance as trigram. I did not try N-grams with n > 2, due to limitations in computational resources (it took kind of OK to process bigrams, but will a lot more for further sizes).\n",
    "\n",
    "I used the same weights for edit1 and edit2, as I did not have a good reason to change them. I did not use any weights for absent words, as results that I got were quite alright without them. Maybe examples which are used were too bias, and implementing weights for absent words would be beneficial for other cases.\n",
    "\n"
   ]
  },
  {
   "cell_type": "markdown",
   "metadata": {
    "id": "46rk65S4GRSe"
   },
   "source": [
    "## Evaluate on a test set\n",
    "\n",
    "Your task is to generate a test set and evaluate your work. You may vary the noise probability to generate different datasets with varying compexity. Compare your solution to the Norvig's corrector, and report the accuracies."
   ]
  },
  {
   "cell_type": "code",
   "execution_count": 25,
   "metadata": {
    "id": "OwZWaX9VVs7B",
    "ExecuteTime": {
     "end_time": "2024-03-22T19:33:31.674323100Z",
     "start_time": "2024-03-22T19:33:31.666368400Z"
    }
   },
   "outputs": [],
   "source": [
    "# read txt file\n",
    "with open('Assignment2_data/TwelfthNight.txt', 'r') as file:\n",
    "    test_set = file.readlines()"
   ]
  },
  {
   "cell_type": "code",
   "execution_count": 27,
   "outputs": [
    {
     "data": {
      "text/plain": "['\\n',\n 'Twelfth Night\\n',\n '\\n',\n 'ACT I\\n',\n \"SCENE I. DUKE ORSINO's palace.\\n\",\n 'Enter DUKE ORSINO, CURIO, and other Lords; Musicians attending\\n',\n 'DUKE ORSINO\\n',\n 'If music be the food of love, play on;\\n',\n 'Give me excess of it, that, surfeiting,\\n',\n 'The appetite may sicken, and so die.\\n']"
     },
     "execution_count": 27,
     "metadata": {},
     "output_type": "execute_result"
    }
   ],
   "source": [
    "test_set[:10]"
   ],
   "metadata": {
    "collapsed": false,
    "ExecuteTime": {
     "end_time": "2024-03-22T19:33:51.806969Z",
     "start_time": "2024-03-22T19:33:51.788996600Z"
    }
   }
  },
  {
   "cell_type": "code",
   "execution_count": 30,
   "outputs": [],
   "source": [
    "# add noise to words (change or delete some letters\n",
    "def add_noise_to_text(text, noise_probability):\n",
    "    noised_text = []\n",
    "    for line in text:\n",
    "        noised_line = []\n",
    "        for word in line.split():\n",
    "            if np.random.rand() < noise_probability:\n",
    "                noised_word = list(word)\n",
    "                idx = np.random.randint(0, len(noised_word))\n",
    "                noised_word[idx] = np.random.choice([c for c in 'abcdefghijklmnopqrstuvwxyz' if c != noised_word[idx]])\n",
    "                noised_line.append(''.join(noised_word))\n",
    "            else:\n",
    "                noised_line.append(word)\n",
    "        noised_text.append(' '.join(noised_line))\n",
    "    return noised_text"
   ],
   "metadata": {
    "collapsed": false,
    "ExecuteTime": {
     "end_time": "2024-03-22T19:35:31.638487200Z",
     "start_time": "2024-03-22T19:35:31.528091900Z"
    }
   }
  },
  {
   "cell_type": "code",
   "execution_count": 31,
   "outputs": [
    {
     "data": {
      "text/plain": "['',\n 'Twxlfth Niuht',\n '',\n 'ACT I',\n \"SCENE I. DUKb ORSINO's palace.\",\n 'Enter DUKE ORmINO, CURIO, and other Lords; Musicians attending',\n 'DUKE ORSINO',\n 'If music be the food of love, play on;',\n 'Give me eccess on ii, thate surfeiting,',\n 'The appetite eay sickenh and so die.']"
     },
     "execution_count": 31,
     "metadata": {},
     "output_type": "execute_result"
    }
   ],
   "source": [
    "noised_text = add_noise_to_text(test_set, 0.1)\n",
    "noised_text[:10]"
   ],
   "metadata": {
    "collapsed": false,
    "ExecuteTime": {
     "end_time": "2024-03-22T19:35:33.281733Z",
     "start_time": "2024-03-22T19:35:33.140948200Z"
    }
   }
  },
  {
   "cell_type": "code",
   "execution_count": 40,
   "outputs": [
    {
     "name": "stderr",
     "output_type": "stream",
     "text": [
      "100%|██████████| 3697/3697 [00:01<00:00, 2682.09it/s]\n"
     ]
    },
    {
     "data": {
      "text/plain": "0.6837634913186298"
     },
     "execution_count": 40,
     "metadata": {},
     "output_type": "execute_result"
    }
   ],
   "source": [
    "# evaluate the accuracy of the autocorrect method\n",
    "def get_autocorrected_text(text, autocorrect_method):\n",
    "    corrected_text = []\n",
    "    for line in tqdm(text):\n",
    "        corrected_text.append(autocorrect_method(line))\n",
    "    return corrected_text\n",
    "\n",
    "def evaluate_accuracy(corrected_text, original_text):\n",
    "    correct = 0\n",
    "    total = 0\n",
    "    for corrected_line, original_line in zip(corrected_text, original_text):\n",
    "        # if is not lsit of words, split it\n",
    "        if not isinstance(corrected_line, list):\n",
    "            \n",
    "            corrected_words = corrected_line.split()\n",
    "            original_words = original_line.split()\n",
    "            for corrected_word, original_word in zip(corrected_words, original_words):\n",
    "                if corrected_word == original_word:\n",
    "                    correct += 1\n",
    "                total += 1\n",
    "    return correct / total\n",
    "\n",
    "corrected_text = get_autocorrected_text(noised_text, autocorrect)\n",
    "# change cirrected text to string\n",
    "corrected_text = [line for line in corrected_text]\n",
    "\n",
    "accuracy = evaluate_accuracy(corrected_text, test_set)\n",
    "accuracy"
   ],
   "metadata": {
    "collapsed": false,
    "ExecuteTime": {
     "end_time": "2024-03-22T19:43:21.790356900Z",
     "start_time": "2024-03-22T19:43:20.391927200Z"
    }
   }
  },
  {
   "cell_type": "code",
   "execution_count": 41,
   "outputs": [
    {
     "name": "stderr",
     "output_type": "stream",
     "text": [
      "100%|██████████| 3697/3697 [00:00<00:00, 3778.51it/s]\n"
     ]
    },
    {
     "data": {
      "text/plain": "0.6813233223838574"
     },
     "execution_count": 41,
     "metadata": {},
     "output_type": "execute_result"
    }
   ],
   "source": [
    "def get_norvig_text(text):\n",
    "    corrected_text = []\n",
    "    for line in tqdm(text):\n",
    "        corrected_text.append(norvig_autocorrect(line))\n",
    "    return corrected_text\n",
    "\n",
    "norvig_corrected_text = get_norvig_text(noised_text)\n",
    "# change corrected text to string\n",
    "norvig_corrected_text = [line for line in norvig_corrected_text]\n",
    "\n",
    "norvig_accuracy = evaluate_accuracy(norvig_corrected_text, test_set)\n",
    "norvig_accuracy"
   ],
   "metadata": {
    "collapsed": false,
    "ExecuteTime": {
     "end_time": "2024-03-22T19:43:24.184970700Z",
     "start_time": "2024-03-22T19:43:23.183841200Z"
    }
   }
  },
  {
   "cell_type": "markdown",
   "source": [
    "# Conclusion\n",
    "The difference is obsolete between the two methods, as both have different accuracy .681 and .683.\n",
    "\n",
    "I think the difference is not much, because of Shakespeare's text of Twelfth Night, which is quite old and has a lot of words that are not used today. This makes it hard for both methods to correct the text, as they are not trained on such old text (so bigrams).\n",
    "\n",
    "Still results of my solution are better due to a more complex approach I propose."
   ],
   "metadata": {
    "collapsed": false
   }
  }
 ],
 "metadata": {
  "colab": {
   "provenance": []
  },
  "kernelspec": {
   "name": "python3",
   "language": "python",
   "display_name": "Python 3 (ipykernel)"
  },
  "language_info": {
   "name": "python"
  }
 },
 "nbformat": 4,
 "nbformat_minor": 0
}
